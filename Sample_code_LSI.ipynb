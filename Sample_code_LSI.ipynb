{
 "cells": [
  {
   "cell_type": "markdown",
   "metadata": {},
   "source": [
    "<h1>Document Similarity using LSI</h1>"
   ]
  },
  {
   "cell_type": "markdown",
   "metadata": {},
   "source": [
    "<ol>\n",
    "<li>From Wikipedia’s List of musicians page (https://en.wikipedia.org/wiki/Lists_of_musicians), pick five lists of\n",
    "musicians (e.g., List of big band musicians).\n",
    "<li>Collect the urls of all the musicians on those five pages and place them in a list\n",
    "<li>Grab the content of each musician in the list and place them in a list (of documents)\n",
    "<li>Build an LSI model using this data. This is \"reference\" data set\n",
    "<li>Grab another list of musicians from wikipedia and create a new list of documents using the detail from each musicians page. This is \"musician\" data set\n",
    "<li>For each musician in the new list, find the musician in the reference data set that is the closest in similarity. \n",
    "<li>Print a table that contains each musician from the musician data set and the most similar musician from the reference data set\n",
    "</ol>"
   ]
  },
  {
   "cell_type": "markdown",
   "metadata": {},
   "source": [
    "<p><span style=\"color:blue\">get_musicians</span>: A function that, given a \"list of musicians\" url, returns a list containing the names of the musicians and the urls for their wikipedia pages\n",
    "<p>non_musician_finder tries its best to remove links that are not musician links from the page (not perfect, but good enough!)"
   ]
  },
  {
   "cell_type": "code",
   "execution_count": null,
   "metadata": {},
   "outputs": [],
   "source": [
    "def get_musicians(url):\n",
    "    from bs4 import BeautifulSoup\n",
    "    import requests\n",
    "    page_soup = BeautifulSoup(requests.get(url).content,'lxml')\n",
    "    li_tags = page_soup.find_all('li')\n",
    "    all_musicians = list()\n",
    "    for tag in li_tags:\n",
    "        if tag.get('id'):\n",
    "            continue\n",
    "\n",
    "        try:\n",
    "            tag.find('sup',class_=\"reference\")\n",
    "            link = tag.find('a').get('href')\n",
    "            name = tag.find('a').get_text()\n",
    "            if \"/wiki/\" in link and non_musician_finder(link):\n",
    "                all_musicians.append((name,\"https://en.wikipedia.org\" + link))\n",
    "        except:\n",
    "            pass\n",
    "    return all_musicians\n",
    "\n",
    "def non_musician_finder(link):\n",
    "    non_musician_words = ['Category','Template','Portal','List','File','Template','Special','Main','Help','User']\n",
    "    for word in non_musician_words:\n",
    "        if word in link:\n",
    "            return False\n",
    "    return True"
   ]
  },
  {
   "cell_type": "code",
   "execution_count": null,
   "metadata": {},
   "outputs": [],
   "source": [
    "url = \"https://en.wikipedia.org/wiki/List_of_K-pop_musicians\"\n",
    "get_musicians(url)"
   ]
  },
  {
   "cell_type": "markdown",
   "metadata": {},
   "source": [
    "<h4>get_musician_text(url): returns the page text of the wikipedia page associated with a musician</h4>"
   ]
  },
  {
   "cell_type": "code",
   "execution_count": null,
   "metadata": {},
   "outputs": [],
   "source": [
    "def get_musician_text(url):\n",
    "    from bs4 import BeautifulSoup\n",
    "    import requests\n",
    "    all_text = ''\n",
    "    try:\n",
    "        page_soup = BeautifulSoup(requests.get(url).content,'lxml')\n",
    "        for p_tag in page_soup.find_all('p'):\n",
    "            all_text += p_tag.get_text()\n",
    "    except:\n",
    "        return None\n",
    "    return all_text\n"
   ]
  },
  {
   "cell_type": "markdown",
   "metadata": {},
   "source": [
    "<h4>testing get_musician_text</h4>"
   ]
  },
  {
   "cell_type": "code",
   "execution_count": null,
   "metadata": {},
   "outputs": [],
   "source": [
    "url = \"https://en.wikipedia.org/wiki/G-Dragon\"\n",
    "get_musician_text(url)"
   ]
  },
  {
   "cell_type": "markdown",
   "metadata": {},
   "source": [
    "<p><span style=\"color:blue\">get_all_musicians</span>: A function that, given a list of genres, returns a list containing the names of the musicians and the urls for their wikipedia pages associated with that list of genres\n",
    "<p>The function should return a list of (name,url) pairs for all the musicians in the list of genres"
   ]
  },
  {
   "cell_type": "code",
   "execution_count": null,
   "metadata": {},
   "outputs": [],
   "source": [
    "def get_all_musicians(genre_list):\n",
    "    all_musicians = list()\n",
    "    for genre in genre_list:\n",
    "        url = 'https://en.wikipedia.org/wiki/List_of_' + genre\n",
    "        all_musicians += get_musicians(url)\n",
    "    \n",
    "    return all_musicians"
   ]
  },
  {
   "cell_type": "markdown",
   "metadata": {},
   "source": [
    "<h4>Example of how to use get_all_musicians</h4>"
   ]
  },
  {
   "cell_type": "code",
   "execution_count": null,
   "metadata": {},
   "outputs": [],
   "source": [
    "genre_list = ['bluegrass_musicians','British_blues_musicians','country_blues_musicians','jazz_blues_musicians','jazz_musicians']\n",
    "all_musicians = get_all_musicians(genre_list)\n",
    "all_musicians"
   ]
  },
  {
   "cell_type": "markdown",
   "metadata": {},
   "source": [
    "<p><span style=\"color:blue\">get_all_musician_docs</span>: A function that, given the list of (musician,url) pairs, returns two lists, a list of musicians and a parallel (same size) list of documents. "
   ]
  },
  {
   "cell_type": "code",
   "execution_count": null,
   "metadata": {},
   "outputs": [],
   "source": [
    "def get_all_musician_docs(all_musicians):\n",
    "    musician_names = list()\n",
    "    musician_texts = list()\n",
    "    for musician in all_musicians:\n",
    "        name = musician[0]\n",
    "        url = musician[1]\n",
    "        if get_musician_text(url) == None:\n",
    "            continue\n",
    "        else:\n",
    "            musician_names.append(name)\n",
    "            musician_texts.append(get_musician_text(url))\n",
    "    return musician_names,musician_texts\n",
    "        "
   ]
  },
  {
   "cell_type": "markdown",
   "metadata": {},
   "source": [
    "<h4>Example of how to use get_all_musician_docs</h4>"
   ]
  },
  {
   "cell_type": "code",
   "execution_count": null,
   "metadata": {},
   "outputs": [],
   "source": [
    "reference_names,reference_docs = get_all_musician_docs(all_musicians)"
   ]
  },
  {
   "cell_type": "code",
   "execution_count": null,
   "metadata": {},
   "outputs": [],
   "source": [
    "reference_docs"
   ]
  },
  {
   "cell_type": "markdown",
   "metadata": {},
   "source": [
    "<h3>Set up the LSI model</h3>\n",
    "<li>reference_docs is the list of documents\n",
    "<li>construct texts, dictionary, and corpus\n",
    "<li>construct an LSI model. Use 5 topics initially"
   ]
  },
  {
   "cell_type": "code",
   "execution_count": null,
   "metadata": {},
   "outputs": [],
   "source": [
    "\n",
    "from gensim.parsing.preprocessing import STOPWORDS\n",
    "from gensim.similarities.docsim import Similarity\n",
    "from gensim import corpora, models, similarities\n",
    "\n",
    "documents = reference_docs\n",
    "texts = [[word for word in document.lower().split()\n",
    "        if word not in STOPWORDS and word.isalnum()]\n",
    "        for document in documents]\n",
    "dictionary = corpora.Dictionary(texts)\n",
    "corpus = [dictionary.doc2bow(text) for text in texts]\n",
    "lsi = models.LsiModel(corpus, id2word=dictionary, num_topics=5)"
   ]
  },
  {
   "cell_type": "markdown",
   "metadata": {},
   "source": [
    "<h3>Construct the \"musician\" data set</h3>\n",
    "<h4>Example</h4>"
   ]
  },
  {
   "cell_type": "code",
   "execution_count": null,
   "metadata": {},
   "outputs": [],
   "source": [
    "musician_genre_list = ['hip_hop_musicians']\n",
    "all_musicians = get_all_musicians(musician_genre_list)\n",
    "musician_names,musician_docs = get_all_musician_docs(all_musicians)"
   ]
  },
  {
   "cell_type": "markdown",
   "metadata": {},
   "source": [
    "<h4>find the most similar musicians for each new musician from our reference data set</h4>"
   ]
  },
  {
   "cell_type": "code",
   "execution_count": null,
   "metadata": {
    "scrolled": true
   },
   "outputs": [],
   "source": [
    "table_data = list()\n",
    "for index,musician in enumerate(musician_docs):\n",
    "    \n",
    "    vec_bow = dictionary.doc2bow(musician.lower().split())\n",
    "    vec_lsi = lsi[vec_bow]\n",
    "    sims_index = similarities.MatrixSimilarity(lsi[corpus])\n",
    "    sims = sims_index[vec_lsi]\n",
    "    sims = sorted(enumerate(sims), key=lambda item: -item[1])\n",
    "    most_similar_musician = sims[0][0]\n",
    "    \n",
    "    table_data.append((musician_names[index],reference_names[most_similar_musician]))\n",
    "    \n",
    "import pprint\n",
    "import pprint\n",
    "pp = pprint.PrettyPrinter(indent=4)\n",
    "pp.pprint(table_data)"
   ]
  },
  {
   "cell_type": "code",
   "execution_count": null,
   "metadata": {},
   "outputs": [],
   "source": []
  }
 ],
 "metadata": {
  "anaconda-cloud": {},
  "kernelspec": {
   "display_name": "Python 3",
   "language": "python",
   "name": "python3"
  },
  "language_info": {
   "codemirror_mode": {
    "name": "ipython",
    "version": 3
   },
   "file_extension": ".py",
   "mimetype": "text/x-python",
   "name": "python",
   "nbconvert_exporter": "python",
   "pygments_lexer": "ipython3",
   "version": "3.6.5"
  }
 },
 "nbformat": 4,
 "nbformat_minor": 2
}
