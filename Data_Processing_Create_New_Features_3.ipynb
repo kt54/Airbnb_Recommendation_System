{
 "cells": [
  {
   "cell_type": "markdown",
   "metadata": {},
   "source": [
    "## Create customer review related features based on NRC data on four kinds of languages"
   ]
  },
  {
   "cell_type": "markdown",
   "metadata": {},
   "source": [
    "In this part, we conduct a sentiment analysis based on NRC data on four main kinds of languages.The NRC csv file includes 14182 words in 105 kinds of languages and each word is coded into 2 sentiments and 8 emotions.\n",
    "\n",
    "Different from the NRC Emotion Lexicon we used in class, here we need to create an emotion dictionary based on a csv in a quite different format and find the related emotions for each word in four languages. "
   ]
  },
  {
   "cell_type": "code",
   "execution_count": null,
   "metadata": {},
   "outputs": [],
   "source": [
    "import pandas as pd\n",
    "import numpy as np\n",
    "import datetime"
   ]
  },
  {
   "cell_type": "code",
   "execution_count": null,
   "metadata": {},
   "outputs": [],
   "source": [
    "nrc = pd.read_csv('NRC-Emotion-Lexicon-v0.92-In105Languages-Nov2017Translations.csv',encoding = \"ISO-8859-1\")"
   ]
  },
  {
   "cell_type": "code",
   "execution_count": null,
   "metadata": {
    "scrolled": true
   },
   "outputs": [],
   "source": [
    "nrc.head()"
   ]
  },
  {
   "cell_type": "code",
   "execution_count": null,
   "metadata": {
    "scrolled": true
   },
   "outputs": [],
   "source": [
    "nrc.info()"
   ]
  },
  {
   "cell_type": "code",
   "execution_count": null,
   "metadata": {},
   "outputs": [],
   "source": [
    "reviews = pd.read_csv('reviews.csv',encoding = \"ISO-8859-1\")"
   ]
  },
  {
   "cell_type": "code",
   "execution_count": null,
   "metadata": {
    "scrolled": true
   },
   "outputs": [],
   "source": [
    "reviews.info()"
   ]
  },
  {
   "cell_type": "code",
   "execution_count": null,
   "metadata": {},
   "outputs": [],
   "source": [
    "reviews.columns"
   ]
  },
  {
   "cell_type": "code",
   "execution_count": null,
   "metadata": {},
   "outputs": [],
   "source": [
    "reviews = reviews[reviews['comments'].notnull()]"
   ]
  },
  {
   "cell_type": "code",
   "execution_count": null,
   "metadata": {
    "scrolled": true
   },
   "outputs": [],
   "source": [
    "nrc.columns"
   ]
  },
  {
   "cell_type": "code",
   "execution_count": null,
   "metadata": {
    "scrolled": true
   },
   "outputs": [],
   "source": [
    "nrc = nrc[['English (en)','French (fr)','Italian (it)','Spanish (es)','Positive', 'Negative', 'Anger', 'Anticipation', 'Disgust', 'Fear',\n",
    "       'Joy', 'Sadness', 'Surprise', 'Trust']]"
   ]
  },
  {
   "cell_type": "code",
   "execution_count": null,
   "metadata": {
    "scrolled": true
   },
   "outputs": [],
   "source": [
    "emotion_dict=dict()\n",
    "for x in range(len(nrc)):\n",
    "    for y in range(4):\n",
    "        word = nrc.iloc[x][y]\n",
    "        if emotion_dict.get(word):\n",
    "            for i in ['Positive','Negative','Anger','Anticipation','Disgust','Fear','Joy','Sadness','Surprise','Trust']:\n",
    "                if nrc.iloc[x][i]==1:\n",
    "                    emotion_dict[word].add(i)\n",
    "        else:\n",
    "            emotion_dict[word] = set(' '.join(\n",
    "                list(np.array(['Positive','Negative','Anger','Anticipation','Disgust','Fear','Joy','Sadness','Surprise','Trust']) \n",
    "                     * np.array(nrc.iloc[x][4:]))).split())"
   ]
  },
  {
   "cell_type": "code",
   "execution_count": null,
   "metadata": {},
   "outputs": [],
   "source": [
    "emotion_dict_final = {k: v for k, v in emotion_dict.items() if v != set()}"
   ]
  },
  {
   "cell_type": "code",
   "execution_count": null,
   "metadata": {
    "scrolled": true
   },
   "outputs": [],
   "source": [
    "emotion_dict_final"
   ]
  },
  {
   "cell_type": "code",
   "execution_count": null,
   "metadata": {},
   "outputs": [],
   "source": [
    "reviews.columns"
   ]
  },
  {
   "cell_type": "code",
   "execution_count": null,
   "metadata": {},
   "outputs": [],
   "source": [
    "len(reviews.listing_id.unique())"
   ]
  },
  {
   "cell_type": "markdown",
   "metadata": {},
   "source": [
    "## Remove automatic system reviews"
   ]
  },
  {
   "cell_type": "code",
   "execution_count": null,
   "metadata": {
    "scrolled": true
   },
   "outputs": [],
   "source": [
    "reviews1 = reviews[~reviews.comments.str.contains('The host canceled this reservation')]"
   ]
  },
  {
   "cell_type": "code",
   "execution_count": null,
   "metadata": {},
   "outputs": [],
   "source": [
    "reviews1.set_index('listing_id',inplace=True)"
   ]
  },
  {
   "cell_type": "code",
   "execution_count": null,
   "metadata": {},
   "outputs": [],
   "source": [
    "reviews1['date']=reviews1['date'].apply(lambda x: datetime.datetime.strptime(x,'%Y-%m-%d'))"
   ]
  },
  {
   "cell_type": "markdown",
   "metadata": {},
   "source": [
    "## Select reviews after 2018-07-01"
   ]
  },
  {
   "cell_type": "code",
   "execution_count": null,
   "metadata": {},
   "outputs": [],
   "source": [
    "reviews1=reviews1[reviews1['date']>datetime.datetime.strptime('2018-07-01', '%Y-%m-%d')]"
   ]
  },
  {
   "cell_type": "code",
   "execution_count": null,
   "metadata": {
    "scrolled": true
   },
   "outputs": [],
   "source": [
    "reviews1"
   ]
  },
  {
   "cell_type": "code",
   "execution_count": null,
   "metadata": {},
   "outputs": [],
   "source": [
    "review_list = list()\n",
    "for i in set(reviews1.index.values):\n",
    "    list_id = i\n",
    "    if type(reviews1.loc[i]['comments']) == str:\n",
    "        review_text = reviews1.loc[i]['comments']\n",
    "    else:\n",
    "        review_text = ' '.join(list(reviews1.loc[i]['comments']))\n",
    "    review_list.append((list_id,review_text))"
   ]
  },
  {
   "cell_type": "code",
   "execution_count": null,
   "metadata": {
    "scrolled": true
   },
   "outputs": [],
   "source": [
    "review_list"
   ]
  },
  {
   "cell_type": "code",
   "execution_count": null,
   "metadata": {},
   "outputs": [],
   "source": [
    "def emotion_analyzer(text,emotion_dict=emotion_dict_final):\n",
    "    emotions = {x for y in emotion_dict.values() for x in y} \n",
    "    emotion_count = dict()\n",
    "    for emotion in emotions:\n",
    "        emotion_count[emotion] = 0\n",
    "    #Analyze the text and normalize by total number of words\n",
    "    total_words = len(text.split())\n",
    "    for word in text.split():\n",
    "        if emotion_dict.get(word):\n",
    "            for emotion in emotion_dict.get(word):\n",
    "                emotion_count[emotion] += 1/total_words\n",
    "    return emotion_count"
   ]
  },
  {
   "cell_type": "code",
   "execution_count": null,
   "metadata": {
    "scrolled": true
   },
   "outputs": [],
   "source": [
    "def comparative_emotion_analyzer(text_tuples,object_name=\"listing_id\"):\n",
    "    import pandas as pd\n",
    "    df = pd.DataFrame(columns=[object_name,'Fear','Trust','Negative',\n",
    "                           'Positive','Joy','Disgust','Anticipation','Anger',\n",
    "                           'Sadness','Surprise'],)\n",
    "    df.set_index(object_name,inplace=True)\n",
    "    \n",
    "    output = df    \n",
    "    for text_tuple in text_tuples:\n",
    "        text = text_tuple[1] \n",
    "        result = emotion_analyzer(text)\n",
    "        df.loc[text_tuple[0]] = [result['Fear'],result['Trust'],\n",
    "                  result['Negative'],result['Positive'],result['Joy'],result['Disgust'],\n",
    "                  result['Anticipation'],result['Anger'],result['Sadness'],result['Surprise']]\n",
    "    return output\n",
    "\n",
    "df = comparative_emotion_analyzer(review_list)"
   ]
  },
  {
   "cell_type": "code",
   "execution_count": null,
   "metadata": {},
   "outputs": [],
   "source": [
    "df['customer_experience']= df['Fear']*(-10)+ df['Trust']*10 + df['Negative'] *(-5)+df['Positive']*5+df['Joy']*10 + df['Disgust']*(-10)+df['Anticipation'] * 5 + df['Anger'] *(-10)+df['Sadness']*(-5)+df['Surprise']*10"
   ]
  },
  {
   "cell_type": "code",
   "execution_count": null,
   "metadata": {},
   "outputs": [],
   "source": [
    "df.to_csv('list_review_rating.csv')"
   ]
  },
  {
   "cell_type": "code",
   "execution_count": null,
   "metadata": {
    "scrolled": true
   },
   "outputs": [],
   "source": [
    "df"
   ]
  },
  {
   "cell_type": "code",
   "execution_count": null,
   "metadata": {},
   "outputs": [],
   "source": []
  }
 ],
 "metadata": {
  "kernelspec": {
   "display_name": "Python 3",
   "language": "python",
   "name": "python3"
  },
  "language_info": {
   "codemirror_mode": {
    "name": "ipython",
    "version": 3
   },
   "file_extension": ".py",
   "mimetype": "text/x-python",
   "name": "python",
   "nbconvert_exporter": "python",
   "pygments_lexer": "ipython3",
   "version": "3.6.5"
  }
 },
 "nbformat": 4,
 "nbformat_minor": 2
}
