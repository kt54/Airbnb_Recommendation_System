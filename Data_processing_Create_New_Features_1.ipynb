{
 "cells": [
  {
   "cell_type": "markdown",
   "metadata": {},
   "source": [
    "# Add Featurs Distance to Closest Subway/Bus Station and Related Name"
   ]
  },
  {
   "cell_type": "code",
   "execution_count": 97,
   "metadata": {},
   "outputs": [],
   "source": [
    "import pandas as pd\n",
    "df = pd.read_csv('C:/Users/Quinntang/Desktop/Airbnb data/listings.csv')"
   ]
  },
  {
   "cell_type": "code",
   "execution_count": 9,
   "metadata": {},
   "outputs": [],
   "source": [
    "subway_data = pd.read_csv('C:/Users/Quinntang/Desktop/Airbnb data/StationEntrances.csv')"
   ]
  },
  {
   "cell_type": "code",
   "execution_count": null,
   "metadata": {},
   "outputs": [],
   "source": [
    "bus_data = pd.read_csv('C:/Users/Quinntang/Desktop/Airbnb data/Bus_Stop_Shelter.csv')"
   ]
  },
  {
   "cell_type": "code",
   "execution_count": 99,
   "metadata": {},
   "outputs": [],
   "source": [
    "# Extract the infomation from the data set\n",
    "sub_info = dict()\n",
    "for i in range(len(subway_data)):\n",
    "    sub_info[subway_data.iloc[i]['Station_Name']] = (subway_data.iloc[i]['Station_Latitude'],subway_data.iloc[i]['Station_Longitude'])"
   ]
  },
  {
   "cell_type": "code",
   "execution_count": 111,
   "metadata": {},
   "outputs": [],
   "source": [
    "# Define function to calculate the distance using 'Haversine' distance formula. \n",
    "def getdistance(la1,lg1,compare_data):\n",
    "    import math\n",
    "    earth_radius = 6738.137\n",
    "    km_to_miles = 0.621371192\n",
    "    distance = list()\n",
    "    la1_rad = la1*(math.pi/180)\n",
    "    lg1_rad = lg1*(math.pi/180)\n",
    "    for keys,values in compare_data.items():\n",
    "        la2_rad = values[0]*(math.pi/180)\n",
    "        lg2_rad = values[1]*(math.pi/180)\n",
    "        a = la1_rad - la2_rad\n",
    "        b = lg1_rad - lg2_rad\n",
    "        s = 2 * math.asin(math.sqrt(math.pow(math.sin(a/2),2)+ math.cos(la1_rad)*math.cos(la2_rad)*math.pow(math.sin(b/2),2)))*earth_radius*km_to_miles\n",
    "        result = (keys,s)\n",
    "        distance.append(result)\n",
    "    distance.sort(key=lambda k: k[1])\n",
    "    return distance[0][1]"
   ]
  },
  {
   "cell_type": "code",
   "execution_count": 112,
   "metadata": {},
   "outputs": [],
   "source": [
    "# Define function to return the name of the closest station name\n",
    "def getstationname(la1,lg1,compare_data):\n",
    "    import math\n",
    "    earth_radius = 6738.137\n",
    "    km_to_miles = 0.621371192\n",
    "    distance = list()\n",
    "    la1_rad = la1*(math.pi/180)\n",
    "    lg1_rad = lg1*(math.pi/180)\n",
    "    for keys,values in compare_data.items():\n",
    "        la2_rad = values[0]*(math.pi/180)\n",
    "        lg2_rad = values[1]*(math.pi/180)\n",
    "        a = la1_rad - la2_rad\n",
    "        b = lg1_rad - lg2_rad\n",
    "        s = 2 * math.asin(math.sqrt(math.pow(math.sin(a/2),2)+ math.cos(la1_rad)*math.cos(la2_rad)*math.pow(math.sin(b/2),2)))*earth_radius*km_to_miles\n",
    "        result = (keys,s)\n",
    "        distance.append(result)\n",
    "    distance.sort(key=lambda k: k[1])\n",
    "    return distance[0][0]"
   ]
  },
  {
   "cell_type": "code",
   "execution_count": 115,
   "metadata": {},
   "outputs": [],
   "source": [
    "df['dis_to_closest_subway'] = df.apply(lambda x: getdistance(x['latitude'],x['longitude'],sub_info),axis = 1)"
   ]
  },
  {
   "cell_type": "code",
   "execution_count": 116,
   "metadata": {},
   "outputs": [],
   "source": [
    "df['closest_subway_station'] = df.apply(lambda x: getstationname(x['latitude'],x['longitude'],sub_info),axis = 1)"
   ]
  },
  {
   "cell_type": "code",
   "execution_count": 130,
   "metadata": {},
   "outputs": [],
   "source": [
    "# Extract the infomation from the data set\n",
    "bus_info = dict()\n",
    "for i in range(len(subway_data)):\n",
    "    bus_info[(bus_data.iloc[i]['SHELTER_ID'],bus_data.iloc[i]['Street'])] = (bus_data.iloc[i]['LATITUDE'],bus_data.iloc[i]['LONGITUDE'])"
   ]
  },
  {
   "cell_type": "code",
   "execution_count": 133,
   "metadata": {},
   "outputs": [],
   "source": [
    "df['dis_to_closest_bus'] = df.apply(lambda x: getdistance(x['latitude'],x['longitude'],bus_info),axis = 1)"
   ]
  },
  {
   "cell_type": "code",
   "execution_count": 136,
   "metadata": {},
   "outputs": [],
   "source": [
    "df['closest_bus_station'] = df.apply(lambda x: getstationname(x['latitude'],x['longitude'],bus_info),axis = 1)"
   ]
  },
  {
   "cell_type": "code",
   "execution_count": 164,
   "metadata": {},
   "outputs": [],
   "source": [
    "# Test Code for transport_recommendation (Bus/Subway Accessibility)\n",
    "# def transport_recommendation():\n",
    "#     val = input('Please choose the maximum distance you accept(in miles): ')\n",
    "#     r1 = input('Pleae indicate the level you prefer taking bus or subway, 0 means mostly prefer bus and 5 means mostly prefer subway: ')\n",
    "#     loc = input('Please indicate the borough you want to explore: ')\n",
    "#     if float(r1) >= 4:\n",
    "#         result = df[(df['dis_to_closest_subway']<=float(val))&(df['dis_to_closest_bus']<=float(val))&(df['neighbourhood_group']==loc)].sort_values(by='dis_to_closest_subway').head(5)\n",
    "#     elif 2.5 <= float(r1) < 4:\n",
    "#         result = df[(df['dis_to_closest_subway']<=float(val))&(df['dis_to_closest_bus']<=float(val))&(df['neighbourhood_group']==loc)].sort_values(by=['dis_to_closest_subway','dis_to_closest_bus']).head(5)\n",
    "#     elif 1 < float(r1) < 2.5:\n",
    "#         result = df[(df['dis_to_closest_subway']<=float(val))&(df['dis_to_closest_bus']<=float(val))&(df['neighbourhood_group']==loc)].sort_values(by=['dis_to_closest_bus','dis_to_closest_subway']).head(5)\n",
    "#     elif float(r1) <= 1:\n",
    "#         result = df[(df['dis_to_closest_subway']<=float(val))&(df['dis_to_closest_bus']<=float(val))&(df['neighbourhood_group']==loc)].sort_values(by=['dis_to_closest_bus']).head(5)\n",
    "#     return result"
   ]
  },
  {
   "cell_type": "code",
   "execution_count": 165,
   "metadata": {},
   "outputs": [
    {
     "name": "stdout",
     "output_type": "stream",
     "text": [
      "Please choose the maximum distance you accept(in miles): 0.2\n",
      "Pleae indicate the level you prefer taking bus or subway, 0 means mostly prefer bus and 5 means mostly prefer subway: 1\n",
      "Please indicate the borough you want to explore: Queens\n"
     ]
    },
    {
     "data": {
      "text/html": [
       "<div>\n",
       "<style scoped>\n",
       "    .dataframe tbody tr th:only-of-type {\n",
       "        vertical-align: middle;\n",
       "    }\n",
       "\n",
       "    .dataframe tbody tr th {\n",
       "        vertical-align: top;\n",
       "    }\n",
       "\n",
       "    .dataframe thead th {\n",
       "        text-align: right;\n",
       "    }\n",
       "</style>\n",
       "<table border=\"1\" class=\"dataframe\">\n",
       "  <thead>\n",
       "    <tr style=\"text-align: right;\">\n",
       "      <th></th>\n",
       "      <th>id</th>\n",
       "      <th>name</th>\n",
       "      <th>host_id</th>\n",
       "      <th>host_name</th>\n",
       "      <th>neighbourhood_group</th>\n",
       "      <th>neighbourhood</th>\n",
       "      <th>latitude</th>\n",
       "      <th>longitude</th>\n",
       "      <th>room_type</th>\n",
       "      <th>price</th>\n",
       "      <th>minimum_nights</th>\n",
       "      <th>number_of_reviews</th>\n",
       "      <th>last_review</th>\n",
       "      <th>reviews_per_month</th>\n",
       "      <th>calculated_host_listings_count</th>\n",
       "      <th>availability_365</th>\n",
       "      <th>dis_to_closest_subway</th>\n",
       "      <th>closest_subway_station</th>\n",
       "      <th>dis_to_closest_bus</th>\n",
       "      <th>closest_bus_station</th>\n",
       "    </tr>\n",
       "  </thead>\n",
       "  <tbody>\n",
       "    <tr>\n",
       "      <th>45462</th>\n",
       "      <td>26768574</td>\n",
       "      <td>Brilliant BR w/ Private Bath near LGA &amp; Manhattan</td>\n",
       "      <td>5776520</td>\n",
       "      <td>Hadiza</td>\n",
       "      <td>Queens</td>\n",
       "      <td>Woodside</td>\n",
       "      <td>40.745893</td>\n",
       "      <td>-73.906422</td>\n",
       "      <td>Private room</td>\n",
       "      <td>64</td>\n",
       "      <td>30</td>\n",
       "      <td>0</td>\n",
       "      <td>NaN</td>\n",
       "      <td>NaN</td>\n",
       "      <td>28</td>\n",
       "      <td>240</td>\n",
       "      <td>0.191305</td>\n",
       "      <td>Woodside Av-61st St</td>\n",
       "      <td>0.003891</td>\n",
       "      <td>(QN04927, 58 STREET)</td>\n",
       "    </tr>\n",
       "    <tr>\n",
       "      <th>4025</th>\n",
       "      <td>2028432</td>\n",
       "      <td>Beautiful sunny room with backyard!</td>\n",
       "      <td>10243387</td>\n",
       "      <td>Cynthia&amp;Mirlet</td>\n",
       "      <td>Queens</td>\n",
       "      <td>Long Island City</td>\n",
       "      <td>40.758323</td>\n",
       "      <td>-73.928738</td>\n",
       "      <td>Shared room</td>\n",
       "      <td>72</td>\n",
       "      <td>2</td>\n",
       "      <td>23</td>\n",
       "      <td>2016-11-14</td>\n",
       "      <td>0.43</td>\n",
       "      <td>2</td>\n",
       "      <td>270</td>\n",
       "      <td>0.120300</td>\n",
       "      <td>36 Av-Washington Av</td>\n",
       "      <td>0.004314</td>\n",
       "      <td>(QN04504, 35 AVENUE)</td>\n",
       "    </tr>\n",
       "    <tr>\n",
       "      <th>22195</th>\n",
       "      <td>14089282</td>\n",
       "      <td>Comfy room in brownstone, Ridgewood</td>\n",
       "      <td>57517386</td>\n",
       "      <td>Ruthy</td>\n",
       "      <td>Queens</td>\n",
       "      <td>Ridgewood</td>\n",
       "      <td>40.703649</td>\n",
       "      <td>-73.895717</td>\n",
       "      <td>Private room</td>\n",
       "      <td>100</td>\n",
       "      <td>1</td>\n",
       "      <td>0</td>\n",
       "      <td>NaN</td>\n",
       "      <td>NaN</td>\n",
       "      <td>1</td>\n",
       "      <td>0</td>\n",
       "      <td>0.185613</td>\n",
       "      <td>Fresh Pond Rd</td>\n",
       "      <td>0.005011</td>\n",
       "      <td>(QN0232, FRESH POND ROAD)</td>\n",
       "    </tr>\n",
       "    <tr>\n",
       "      <th>42018</th>\n",
       "      <td>24699443</td>\n",
       "      <td>Beautiful NYC Apartment</td>\n",
       "      <td>186668589</td>\n",
       "      <td>Kary</td>\n",
       "      <td>Queens</td>\n",
       "      <td>Sunnyside</td>\n",
       "      <td>40.743293</td>\n",
       "      <td>-73.916951</td>\n",
       "      <td>Private room</td>\n",
       "      <td>65</td>\n",
       "      <td>4</td>\n",
       "      <td>1</td>\n",
       "      <td>2018-05-31</td>\n",
       "      <td>0.24</td>\n",
       "      <td>1</td>\n",
       "      <td>0</td>\n",
       "      <td>0.082994</td>\n",
       "      <td>Bliss St-46th St</td>\n",
       "      <td>0.005039</td>\n",
       "      <td>(QN04794, 48 STREET)</td>\n",
       "    </tr>\n",
       "    <tr>\n",
       "      <th>40695</th>\n",
       "      <td>23894777</td>\n",
       "      <td>Sunny side, NY Apartment</td>\n",
       "      <td>179567961</td>\n",
       "      <td>Ana</td>\n",
       "      <td>Queens</td>\n",
       "      <td>Sunnyside</td>\n",
       "      <td>40.742587</td>\n",
       "      <td>-73.916517</td>\n",
       "      <td>Entire home/apt</td>\n",
       "      <td>80</td>\n",
       "      <td>20</td>\n",
       "      <td>1</td>\n",
       "      <td>NaN</td>\n",
       "      <td>NaN</td>\n",
       "      <td>1</td>\n",
       "      <td>197</td>\n",
       "      <td>0.113397</td>\n",
       "      <td>Bliss St-46th St</td>\n",
       "      <td>0.005407</td>\n",
       "      <td>(QN04574, QUEENS BOULEVARD)</td>\n",
       "    </tr>\n",
       "  </tbody>\n",
       "</table>\n",
       "</div>"
      ],
      "text/plain": [
       "             id                                               name    host_id  \\\n",
       "45462  26768574  Brilliant BR w/ Private Bath near LGA & Manhattan    5776520   \n",
       "4025    2028432                Beautiful sunny room with backyard!   10243387   \n",
       "22195  14089282                Comfy room in brownstone, Ridgewood   57517386   \n",
       "42018  24699443                            Beautiful NYC Apartment  186668589   \n",
       "40695  23894777                           Sunny side, NY Apartment  179567961   \n",
       "\n",
       "            host_name neighbourhood_group     neighbourhood   latitude  \\\n",
       "45462          Hadiza              Queens          Woodside  40.745893   \n",
       "4025   Cynthia&Mirlet              Queens  Long Island City  40.758323   \n",
       "22195           Ruthy              Queens         Ridgewood  40.703649   \n",
       "42018            Kary              Queens         Sunnyside  40.743293   \n",
       "40695             Ana              Queens         Sunnyside  40.742587   \n",
       "\n",
       "       longitude        room_type  price  minimum_nights  number_of_reviews  \\\n",
       "45462 -73.906422     Private room     64              30                  0   \n",
       "4025  -73.928738      Shared room     72               2                 23   \n",
       "22195 -73.895717     Private room    100               1                  0   \n",
       "42018 -73.916951     Private room     65               4                  1   \n",
       "40695 -73.916517  Entire home/apt     80              20                  1   \n",
       "\n",
       "      last_review  reviews_per_month  calculated_host_listings_count  \\\n",
       "45462         NaN                NaN                              28   \n",
       "4025   2016-11-14               0.43                               2   \n",
       "22195         NaN                NaN                               1   \n",
       "42018  2018-05-31               0.24                               1   \n",
       "40695         NaN                NaN                               1   \n",
       "\n",
       "       availability_365  dis_to_closest_subway closest_subway_station  \\\n",
       "45462               240               0.191305    Woodside Av-61st St   \n",
       "4025                270               0.120300    36 Av-Washington Av   \n",
       "22195                 0               0.185613          Fresh Pond Rd   \n",
       "42018                 0               0.082994       Bliss St-46th St   \n",
       "40695               197               0.113397       Bliss St-46th St   \n",
       "\n",
       "       dis_to_closest_bus          closest_bus_station  \n",
       "45462            0.003891         (QN04927, 58 STREET)  \n",
       "4025             0.004314         (QN04504, 35 AVENUE)  \n",
       "22195            0.005011    (QN0232, FRESH POND ROAD)  \n",
       "42018            0.005039         (QN04794, 48 STREET)  \n",
       "40695            0.005407  (QN04574, QUEENS BOULEVARD)  "
      ]
     },
     "execution_count": 165,
     "metadata": {},
     "output_type": "execute_result"
    }
   ],
   "source": [
    "transport_recommendation()"
   ]
  },
  {
   "cell_type": "code",
   "execution_count": 168,
   "metadata": {},
   "outputs": [],
   "source": [
    "df.to_csv('C:/Users/Quinntang/Desktop/Airbnb data/listing_new.csv')"
   ]
  }
 ],
 "metadata": {
  "kernelspec": {
   "display_name": "Python 3",
   "language": "python",
   "name": "python3"
  },
  "language_info": {
   "codemirror_mode": {
    "name": "ipython",
    "version": 3
   },
   "file_extension": ".py",
   "mimetype": "text/x-python",
   "name": "python",
   "nbconvert_exporter": "python",
   "pygments_lexer": "ipython3",
   "version": "3.6.5"
  }
 },
 "nbformat": 4,
 "nbformat_minor": 2
}
